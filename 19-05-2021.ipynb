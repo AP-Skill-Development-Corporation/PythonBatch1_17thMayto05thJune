{
 "cells": [
  {
   "cell_type": "markdown",
   "metadata": {},
   "source": [
    "Conditional statements:\n",
    "-----------------------------------\n",
    "To make decisions based on condition\n",
    "- if\n",
    "    - if the condition is satisfied then the statemnets present in if block will be executed\n",
    "- if else\n",
    "    - if the condition is satisfied then the statemnets present in if block will be executed and if the condition fails then the statements present in else block will be executed\n",
    "- elif\n",
    "    - if we want to check more than one condition like other than if then we use elif, and this elif statemnets will execute if the condition present in if fails\n",
    "- Nested if\n",
    "    - based on condition checking we use nested if"
   ]
  },
  {
   "cell_type": "code",
   "execution_count": null,
   "metadata": {},
   "outputs": [],
   "source": [
    "# if else syntax\n",
    "if condition:\n",
    "    statement1\n",
    "    statement2\n",
    "    statementn\n",
    "else:\n",
    "    statement1\n",
    "    statement2\n"
   ]
  },
  {
   "cell_type": "code",
   "execution_count": 2,
   "metadata": {},
   "outputs": [
    {
     "name": "stdout",
     "output_type": "stream",
     "text": [
      "enter a number-9\n",
      "Negative number\n"
     ]
    }
   ],
   "source": [
    "n = int(input(\"enter a number\"))\n",
    "if n>0:\n",
    "    print(\"Positive Number\")\n",
    "else:\n",
    "    print(\"Negative number\")"
   ]
  },
  {
   "cell_type": "code",
   "execution_count": 6,
   "metadata": {},
   "outputs": [
    {
     "name": "stdout",
     "output_type": "stream",
     "text": [
      "enter a number0\n",
      "Zero\n"
     ]
    }
   ],
   "source": [
    "n = int(input(\"enter a number\"))\n",
    "if n>0:\n",
    "    print(\"Positive Number\")\n",
    "elif n==0:\n",
    "    print(\"Zero\")\n",
    "else:\n",
    "    print(\"Negative number\")"
   ]
  },
  {
   "cell_type": "code",
   "execution_count": 2,
   "metadata": {},
   "outputs": [
    {
     "name": "stdout",
     "output_type": "stream",
     "text": [
      "enter a value9\n",
      "enter b value1\n",
      "enter c value4\n",
      "9 largest\n"
     ]
    }
   ],
   "source": [
    "a = int(input(\"enter a value\"))\n",
    "b = int(input(\"enter b value\"))\n",
    "c = int(input(\"enter c value\"))\n",
    "# a,b,c = int(input()), int(input()), int(input())\n",
    "if a>b:\n",
    "    if a>c:\n",
    "        print(a,\"largest\")\n",
    "    else:\n",
    "        print(c, \"largest\")\n",
    "elif b>c:\n",
    "    print(b,\"largest\")\n",
    "else:\n",
    "    print(c,\"largest\")"
   ]
  },
  {
   "cell_type": "code",
   "execution_count": 5,
   "metadata": {},
   "outputs": [
    {
     "name": "stdout",
     "output_type": "stream",
     "text": [
      "enter usernamebbnmkjhg\n",
      "invalid username\n"
     ]
    }
   ],
   "source": [
    "uname = \"Python\"\n",
    "pwd = \"12345\"\n",
    "\n",
    "username = input(\"enter username\")\n",
    "if uname == username:\n",
    "    password = input(\"enter password\")\n",
    "    if pwd == password:\n",
    "        print(\"welcome \"+uname)\n",
    "    else:\n",
    "        print(\"invalid password\")\n",
    "else:\n",
    "    print(\"invalid username\")"
   ]
  },
  {
   "cell_type": "markdown",
   "metadata": {},
   "source": [
    "- if the static and dynamic username matches, then the code should prompt passowrd or else return username invalid\n",
    "- if both password matches return welcome username or else return invalid password"
   ]
  },
  {
   "cell_type": "markdown",
   "metadata": {},
   "source": [
    "Loops\n",
    "-------------\n",
    "- loops are used for iterating over a sequence of code"
   ]
  },
  {
   "cell_type": "code",
   "execution_count": null,
   "metadata": {},
   "outputs": [],
   "source": [
    "# for loop\n",
    "for i in range(start,stop,step):\n",
    "    statements\n",
    "    \n",
    "# range(stop) --> start = 0, stop-1 step = 1\n",
    "# range(start,stop) \n",
    "# range(start, stop,step) --> "
   ]
  },
  {
   "cell_type": "code",
   "execution_count": 9,
   "metadata": {},
   "outputs": [
    {
     "name": "stdout",
     "output_type": "stream",
     "text": [
      "1 2 3 4 5 6 7 8 9 10 "
     ]
    }
   ],
   "source": [
    "for i in range(1,10+1):\n",
    "    print(i,end=\" \")"
   ]
  },
  {
   "cell_type": "code",
   "execution_count": 10,
   "metadata": {},
   "outputs": [
    {
     "name": "stdout",
     "output_type": "stream",
     "text": [
      "1 4 7 10 13 16 19 "
     ]
    }
   ],
   "source": [
    "for i in range(1,20,3):\n",
    "    print(i, end=\" \")"
   ]
  },
  {
   "cell_type": "code",
   "execution_count": 11,
   "metadata": {},
   "outputs": [
    {
     "name": "stdout",
     "output_type": "stream",
     "text": [
      "1 3 5 7 9 "
     ]
    }
   ],
   "source": [
    "for i in range(1,11,2):\n",
    "    print(i,end = \" \")"
   ]
  },
  {
   "cell_type": "code",
   "execution_count": 12,
   "metadata": {},
   "outputs": [
    {
     "name": "stdout",
     "output_type": "stream",
     "text": [
      "0\n",
      "2\n",
      "4\n",
      "6\n",
      "8\n",
      "10\n"
     ]
    }
   ],
   "source": [
    "for i in range(0,11,2):\n",
    "    print(i)"
   ]
  },
  {
   "cell_type": "code",
   "execution_count": 14,
   "metadata": {},
   "outputs": [
    {
     "name": "stdout",
     "output_type": "stream",
     "text": [
      "20 18 16 14 12 10 8 6 4 2 "
     ]
    }
   ],
   "source": [
    "for i in range(20,1,-2):\n",
    "    print(i, end=\" \")"
   ]
  },
  {
   "cell_type": "code",
   "execution_count": null,
   "metadata": {},
   "outputs": [],
   "source": [
    "while condition:\n",
    "    statements"
   ]
  },
  {
   "cell_type": "code",
   "execution_count": 15,
   "metadata": {},
   "outputs": [
    {
     "name": "stdout",
     "output_type": "stream",
     "text": [
      "55\n"
     ]
    }
   ],
   "source": [
    "s = 0\n",
    "i = 1\n",
    "while i<=10:\n",
    "    s += i # s= s + i\n",
    "    i +=1\n",
    "print(s)"
   ]
  },
  {
   "cell_type": "code",
   "execution_count": 16,
   "metadata": {},
   "outputs": [
    {
     "name": "stdout",
     "output_type": "stream",
     "text": [
      "O\n",
      "n\n",
      "l\n",
      "i\n",
      "n\n",
      "e\n",
      " \n",
      "p\n"
     ]
    }
   ],
   "source": [
    "s = \"Online program\"\n",
    "for i in range(len(s)):\n",
    "    if s[i] == \"r\":\n",
    "        break\n",
    "    else:\n",
    "        print(s[i])"
   ]
  },
  {
   "cell_type": "code",
   "execution_count": 19,
   "metadata": {},
   "outputs": [
    {
     "name": "stdout",
     "output_type": "stream",
     "text": [
      "O\n",
      "n\n",
      "l\n",
      "i\n",
      "n\n",
      "e\n",
      " \n",
      "p\n",
      "o\n",
      "g\n",
      "a\n",
      "m\n"
     ]
    }
   ],
   "source": [
    "s = \"Online program\"\n",
    "for i in range(len(s)):\n",
    "    if s[i] == \"r\":\n",
    "        continue\n",
    "    else:\n",
    "        print(s[i])"
   ]
  },
  {
   "cell_type": "code",
   "execution_count": null,
   "metadata": {},
   "outputs": [],
   "source": []
  }
 ],
 "metadata": {
  "kernelspec": {
   "display_name": "Python 3",
   "language": "python",
   "name": "python3"
  },
  "language_info": {
   "codemirror_mode": {
    "name": "ipython",
    "version": 3
   },
   "file_extension": ".py",
   "mimetype": "text/x-python",
   "name": "python",
   "nbconvert_exporter": "python",
   "pygments_lexer": "ipython3",
   "version": "3.7.1"
  }
 },
 "nbformat": 4,
 "nbformat_minor": 2
}
