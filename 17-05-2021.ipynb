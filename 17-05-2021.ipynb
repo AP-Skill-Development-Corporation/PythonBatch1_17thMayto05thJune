{
 "cells": [
  {
   "cell_type": "markdown",
   "metadata": {},
   "source": [
    "Literate Programming:\n",
    "-------------------------------\n",
    "Combination of coding and documentation. Literate Programming was introduced by Donald Knuth in which a program is given as explanation of the program logic in a natural language such as English along with some snippets of macros and traditional source code.\n",
    "\n",
    "Python\n",
    "------------\n",
    "- Python was invented by Guido Van Rossum in 1989, and relased the python in 1991\n",
    "- Python is an interpreted, high-level, general purpose programming language\n",
    "\n",
    "Platforms to run Python\n",
    "------------------------------------\n",
    "IDLE, PyCharm, Anaconda, PyScripter etc\n",
    "\n",
    "Anaconda\n",
    "----------------\n",
    "Anaconda is a platform which provides various applications to run various programming languages, in that we are using jupyter Notebook to run python.\n",
    "\n",
    "Why we should use Anaconda\n",
    "--------------------------------------------\n",
    "Anaconda contains popular python libraries which are used for Data Science and Machine Learning."
   ]
  },
  {
   "cell_type": "markdown",
   "metadata": {},
   "source": [
    "Shortcuts\n",
    "-------------\n",
    "M: Markdown <br>\n",
    "Y: code<br>\n",
    "space: to scroll down <br>\n",
    "shift+space : to scroll up <br>\n",
    "shift+enter : to run the cell <br>\n",
    "A: to insert a cell above <br>\n",
    "B: to insert a cell below <br>"
   ]
  },
  {
   "cell_type": "markdown",
   "metadata": {},
   "source": [
    "Markdown syntax\n",
    "---------------------------\n",
    "Heading\n",
    "------------\n",
    "# Heading1\n",
    "## Heading2\n",
    "### Heading3\n",
    "#### Heading4\n",
    "##### Heading5\n",
    "###### Heading6\n",
    "- text line1\n",
    "- text line2\n",
    "+ text line3\n",
    "- **bold text**\n",
    "- *Italic text*\n",
    "- ***Bold and Italic***\n",
    "- text\n",
    "    - text sublist\n",
    "    - textlist1\n",
    "    - textlist2\n",
    "    \n",
    "- unordered list\n",
    "    - list1\n",
    "    - list2\n",
    "    - list3\n",
    "* text\n",
    "- ordered list\n",
    ">1. list1\n",
    ">2. list2\n",
    ">10. list3\n",
    "<img src=\"image2.png\">"
   ]
  },
  {
   "cell_type": "code",
   "execution_count": null,
   "metadata": {},
   "outputs": [],
   "source": []
  }
 ],
 "metadata": {
  "kernelspec": {
   "display_name": "Python 3",
   "language": "python",
   "name": "python3"
  },
  "language_info": {
   "codemirror_mode": {
    "name": "ipython",
    "version": 3
   },
   "file_extension": ".py",
   "mimetype": "text/x-python",
   "name": "python",
   "nbconvert_exporter": "python",
   "pygments_lexer": "ipython3",
   "version": "3.7.1"
  }
 },
 "nbformat": 4,
 "nbformat_minor": 2
}
