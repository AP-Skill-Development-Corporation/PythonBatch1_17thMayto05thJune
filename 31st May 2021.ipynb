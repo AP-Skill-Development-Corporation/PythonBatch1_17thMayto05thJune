{
 "cells": [
  {
   "cell_type": "markdown",
   "metadata": {},
   "source": [
    "- Object oriented Programming(OOP'S)\n",
    "    - Object\n",
    "    - Class\n",
    "    - Constructor\n",
    "    - Inheritance\n",
    "- packages and Modules Using OOPS"
   ]
  },
  {
   "cell_type": "markdown",
   "metadata": {},
   "source": [
    "- In python everything will be considered as an object\n",
    "- Mainly used for code reusability\n",
    "- better security"
   ]
  },
  {
   "cell_type": "markdown",
   "metadata": {},
   "source": [
    "- class\n",
    "    - collection of variables(properties) and methods(behaviour)\n",
    "        - varaiables(storing data)\n",
    "            - var = 10\n",
    "        - method\n",
    "            - define a function inside a class\n",
    "    - collection of object\n",
    "    - syntax\n",
    "        - class ClassName:\n",
    "            '''documentation'''\n",
    "            statements(Variables/methods)\n",
    "    - Rules for classname\n",
    "        - Starts with Capital letter\n",
    "        - Shouldn't starts with numbers\n",
    "        - Shouldn't include spaces b/w classname\n",
    "        - Should n't include special char except underscore(_)"
   ]
  },
  {
   "cell_type": "code",
   "execution_count": 5,
   "metadata": {},
   "outputs": [
    {
     "name": "stdout",
     "output_type": "stream",
     "text": [
      "<class '__main__._Exmp'>\n",
      "hello\n",
      "from hello.. function\n",
      "For Basic example purpose\n"
     ]
    }
   ],
   "source": [
    "# Basic Example\n",
    "class _Exmp:\n",
    "    '''For Basic example purpose'''\n",
    "    a = 'hello'\n",
    "    def hello():\n",
    "        return 'from hello.. function'\n",
    "print(_Exmp)\n",
    "print(_Exmp.a)\n",
    "print(_Exmp.hello())\n",
    "print(_Exmp.__doc__)"
   ]
  },
  {
   "cell_type": "code",
   "execution_count": 8,
   "metadata": {},
   "outputs": [
    {
     "name": "stdout",
     "output_type": "stream",
     "text": [
      "['__class__', '__delattr__', '__dict__', '__dir__', '__doc__', '__eq__', '__format__', '__ge__', '__getattribute__', '__gt__', '__hash__', '__init__', '__init_subclass__', '__le__', '__lt__', '__module__', '__ne__', '__new__', '__reduce__', '__reduce_ex__', '__repr__', '__setattr__', '__sizeof__', '__str__', '__subclasshook__', '__weakref__', 'a', 'hello'] "
     ]
    }
   ],
   "source": [
    "print(dir(_Exmp),end=' ')"
   ]
  },
  {
   "cell_type": "code",
   "execution_count": 11,
   "metadata": {},
   "outputs": [
    {
     "name": "stdout",
     "output_type": "stream",
     "text": [
      "<class '__main__.Info'>\n",
      "Ambika 12\n",
      "Ambika python\n"
     ]
    }
   ],
   "source": [
    "# Another Example\n",
    "class Info:\n",
    "    '''Information'''\n",
    "    def myinfo(name,num):\n",
    "        return name + ' '+str(num)\n",
    "    def empinfo(name,team):\n",
    "        return name + ' '+ team\n",
    "print(Info)\n",
    "print(Info.myinfo('Ambika',12))\n",
    "print(Info.empinfo('Ambika','python'))"
   ]
  },
  {
   "cell_type": "code",
   "execution_count": 12,
   "metadata": {},
   "outputs": [
    {
     "name": "stdout",
     "output_type": "stream",
     "text": [
      "['__class__', '__delattr__', '__dict__', '__dir__', '__doc__', '__eq__', '__format__', '__ge__', '__getattribute__', '__gt__', '__hash__', '__init__', '__init_subclass__', '__le__', '__lt__', '__module__', '__ne__', '__new__', '__reduce__', '__reduce_ex__', '__repr__', '__setattr__', '__sizeof__', '__str__', '__subclasshook__', '__weakref__', 'empinfo', 'myinfo'] "
     ]
    }
   ],
   "source": [
    "print(dir(Info),end=' ')"
   ]
  },
  {
   "cell_type": "markdown",
   "metadata": {},
   "source": [
    "- Object\n",
    "    - Instance of class\n",
    "    - Real time entity\n",
    "    - used to acess elemenst in class\n",
    "    - syntax\n",
    "        - objectname(variable) = classname"
   ]
  },
  {
   "cell_type": "code",
   "execution_count": 13,
   "metadata": {},
   "outputs": [
    {
     "name": "stdout",
     "output_type": "stream",
     "text": [
      "<__main__.Hii object at 0x000001FBABB77780>\n"
     ]
    }
   ],
   "source": [
    "# Basic example\n",
    "class Hii:\n",
    "    pass\n",
    "obj = Hii()\n",
    "print(obj)"
   ]
  },
  {
   "cell_type": "code",
   "execution_count": 23,
   "metadata": {},
   "outputs": [
    {
     "name": "stdout",
     "output_type": "stream",
     "text": [
      "<class '__main__.Exmp1'>\n",
      "OOPS 123\n",
      "From details function...\n",
      "doc string None\n"
     ]
    }
   ],
   "source": [
    "class Exmp1:\n",
    "    name = 'OOPS'\n",
    "    num = 123\n",
    "    def details():\n",
    "        return 'From details function...'\n",
    "ab = Exmp1\n",
    "print(ab)\n",
    "print(ab.name,ab.num)\n",
    "print(ab.details())\n",
    "print('doc string',ab.__doc__)"
   ]
  },
  {
   "cell_type": "markdown",
   "metadata": {},
   "source": [
    "- Constructor\n",
    "    - To Assign values to members of class when an objct is created\n",
    "    - constructor method(__init__())\n",
    "    - syntax\n",
    "        - def __init__(self):\n",
    "            statements\n",
    "   - self parameter\n",
    "       - Its a keyword used to access attributes and methods of class\n",
    "       - used for variable initialization\n",
    "   - two types\n",
    "       - Non parameterized(only self as an argument)\n",
    "       - parameterized(multiple parameters along with self)\n",
    "- def __init__(self,name,num)\n",
    "- def __init__(name,num,self)\n",
    "- def __init__(abc,num)"
   ]
  },
  {
   "cell_type": "code",
   "execution_count": 25,
   "metadata": {},
   "outputs": [
    {
     "name": "stdout",
     "output_type": "stream",
     "text": [
      "Iam having only self....\n",
      "Welcome..  Ambika\n"
     ]
    }
   ],
   "source": [
    "# Non parameterized\n",
    "class NonParaCons:\n",
    "    def __init__(self):\n",
    "        print ('Iam having only self....')\n",
    "    def display(self,name):\n",
    "        print('Welcome.. ',name)\n",
    "npc = NonParaCons()\n",
    "npc.display('Ambika')"
   ]
  },
  {
   "cell_type": "code",
   "execution_count": 40,
   "metadata": {},
   "outputs": [
    {
     "name": "stdout",
     "output_type": "stream",
     "text": [
      "constructor \n",
      "destructor\n",
      "None\n"
     ]
    }
   ],
   "source": [
    "class A:\n",
    "    def __init__(self):\n",
    "        print(\"constructor \")\n",
    "    def de(self):\n",
    "        print(\"destructor\")\n",
    "oa=A()\n",
    "print(oa.de())"
   ]
  },
  {
   "cell_type": "code",
   "execution_count": 42,
   "metadata": {},
   "outputs": [
    {
     "name": "stdout",
     "output_type": "stream",
     "text": [
      "14\n"
     ]
    }
   ],
   "source": [
    "# parameterized Constructor\n",
    "class ParaCons:\n",
    "    def __init__(self,n1,n2):\n",
    "        self.n1 = n1\n",
    "        self.n2 = n2\n",
    "    def add(self):\n",
    "        return self.n1 + self.n2\n",
    "    def sub(self):\n",
    "        return self.n1 - self.n2\n",
    "pc = ParaCons(6,8)\n",
    "print(pc.add())"
   ]
  },
  {
   "cell_type": "code",
   "execution_count": 44,
   "metadata": {},
   "outputs": [
    {
     "name": "stdout",
     "output_type": "stream",
     "text": [
      "14\n"
     ]
    }
   ],
   "source": [
    "class ParaConsExp:\n",
    "    def __init__(abc,n1,n2):\n",
    "        abc.n1 = n1\n",
    "        abc.n2 = n2\n",
    "    def add(abc):\n",
    "        return abc.n1 + abc.n2\n",
    "    def sub(abc):\n",
    "        return abc.n1 - abc.n2\n",
    "pc = ParaConsExp(6,8)\n",
    "print(pc.add())"
   ]
  },
  {
   "cell_type": "code",
   "execution_count": null,
   "metadata": {},
   "outputs": [],
   "source": [
    "# n1,n2\n",
    "# self.n1 = n1\n",
    "# self.a = n1\n",
    "# self.b = n2"
   ]
  },
  {
   "cell_type": "code",
   "execution_count": 47,
   "metadata": {},
   "outputs": [
    {
     "name": "stdout",
     "output_type": "stream",
     "text": [
      "10\n",
      "20\n",
      "None\n",
      "60\n"
     ]
    }
   ],
   "source": [
    "class Math:\n",
    "    def __init__(abc,val1,val2):\n",
    "        abc.num1 = val1\n",
    "        abc.num2 = val2\n",
    "    def show(abc):\n",
    "        print(abc.num1)\n",
    "        print(abc.num2)\n",
    "    def add(abc,num3):\n",
    "        return abc.num1 + abc.num2 +num3\n",
    "m = Math(10,20)\n",
    "print(m.show())\n",
    "print(m.add(30))"
   ]
  },
  {
   "cell_type": "code",
   "execution_count": 48,
   "metadata": {},
   "outputs": [
    {
     "name": "stdout",
     "output_type": "stream",
     "text": [
      "second Constructor...\n",
      "<__main__.MoreCons object at 0x000001FBABC1BB70>\n"
     ]
    }
   ],
   "source": [
    "# Morethan one constructor\n",
    "class MoreCons:\n",
    "    def __init__(self):\n",
    "        print('First constructor...')\n",
    "    def __init__(self):\n",
    "        print('second Constructor...')\n",
    "mc = MoreCons()\n",
    "print(mc)"
   ]
  },
  {
   "cell_type": "markdown",
   "metadata": {},
   "source": [
    "- Inheritance\n",
    "    - Acquiring properties from parent[Base class] to child[derived class]\n",
    "    - Types\n",
    "        - Single level\n",
    "            - Single parent and single child\n",
    "        - Multi level\n",
    "            - Single child two parents(parent => parent)\n",
    "        - Multiple level\n",
    "            - Single child two parents(parent to parent no relation)\n",
    "        - Hybrid\n",
    "            - All combination\n",
    "        - hierarchial\n",
    "            - "
   ]
  },
  {
   "cell_type": "code",
   "execution_count": 53,
   "metadata": {},
   "outputs": [
    {
     "name": "stdout",
     "output_type": "stream",
     "text": [
      "1\n",
      "Hii Iam from Child class\n",
      "12\n",
      "Hii Iam from Parent Class\n"
     ]
    }
   ],
   "source": [
    "# single level \n",
    "class ParentClass():\n",
    "    a,b = 12,11\n",
    "    def display():\n",
    "        return 'Hii Iam from Parent Class'\n",
    "class ChildClass(ParentClass):\n",
    "    c,d = 1,0\n",
    "    def show():\n",
    "        return 'Hii Iam from Child class'\n",
    "obj = ChildClass\n",
    "print(obj.c)\n",
    "print(obj.show())\n",
    "print(obj.a)\n",
    "print(obj.display())"
   ]
  },
  {
   "cell_type": "code",
   "execution_count": 58,
   "metadata": {},
   "outputs": [
    {
     "name": "stdout",
     "output_type": "stream",
     "text": [
      "show3\n",
      "show4\n",
      "show 1\n",
      "show2\n"
     ]
    }
   ],
   "source": [
    "class A():\n",
    "    def show1():\n",
    "        print (\"show 1\")\n",
    "    def show2():\n",
    "        print(\"show2\")\n",
    "class B(A):\n",
    "    def show3():\n",
    "        print(\"show3\")\n",
    "    def show4():\n",
    "        print(\"show4\")\n",
    "ob=B\n",
    "ob.show3()\n",
    "ob.show4()\n",
    "ob.show1()\n",
    "ob.show2()"
   ]
  },
  {
   "cell_type": "code",
   "execution_count": 61,
   "metadata": {},
   "outputs": [
    {
     "name": "stdout",
     "output_type": "stream",
     "text": [
      "Iam from class c\n",
      "Iam from class B\n",
      "Iam from class A\n"
     ]
    }
   ],
   "source": [
    "# Multi level\n",
    "class A:\n",
    "    def classA():\n",
    "        print('Iam from class A')\n",
    "class B(A):\n",
    "    def classB():\n",
    "        print('Iam from class B')\n",
    "class C(B):\n",
    "    def classC():\n",
    "        print('Iam from class c')\n",
    "obj = C\n",
    "obj.classC()\n",
    "obj.classB()\n",
    "obj.classA()"
   ]
  },
  {
   "cell_type": "code",
   "execution_count": 62,
   "metadata": {},
   "outputs": [
    {
     "name": "stdout",
     "output_type": "stream",
     "text": [
      "Iam from class c\n",
      "Iam from class B\n",
      "Iam from class A\n"
     ]
    }
   ],
   "source": [
    "# Multiple\n",
    "class A:\n",
    "    def classA():\n",
    "        print('Iam from class A')\n",
    "class B:\n",
    "    def classB():\n",
    "        print('Iam from class B')\n",
    "class C(A,B):\n",
    "    def classC():\n",
    "        print('Iam from class c')\n",
    "obj = C\n",
    "obj.classC()\n",
    "obj.classB()\n",
    "obj.classA()"
   ]
  },
  {
   "cell_type": "code",
   "execution_count": null,
   "metadata": {},
   "outputs": [],
   "source": []
  }
 ],
 "metadata": {
  "kernelspec": {
   "display_name": "Python 3",
   "language": "python",
   "name": "python3"
  },
  "language_info": {
   "codemirror_mode": {
    "name": "ipython",
    "version": 3
   },
   "file_extension": ".py",
   "mimetype": "text/x-python",
   "name": "python",
   "nbconvert_exporter": "python",
   "pygments_lexer": "ipython3",
   "version": "3.7.1"
  }
 },
 "nbformat": 4,
 "nbformat_minor": 2
}
