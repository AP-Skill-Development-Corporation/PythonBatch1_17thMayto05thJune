{
 "cells": [
  {
   "cell_type": "markdown",
   "metadata": {},
   "source": [
    "- Regular Expression\n",
    "    - pattern matching\n",
    "- ^ -- Start\n",
    "- $ -- end\n",
    "- [0-9] -- numbers\n",
    "- [a-z]\n",
    "- [A-Z]\n",
    "- [a-zA-z]\n",
    "- [@]\n",
    "- [0-9]{4} -- matches only 4 digit number\n",
    "- | -- Another pattern"
   ]
  },
  {
   "cell_type": "code",
   "execution_count": 1,
   "metadata": {},
   "outputs": [
    {
     "name": "stdout",
     "output_type": "stream",
     "text": [
      "Enter your mobile number: 9494176480\n",
      "valid number\n"
     ]
    }
   ],
   "source": [
    "# Phn number validation\n",
    "# number 10 digit\n",
    "# 6,7,8,9 or\n",
    "# +91\n",
    "# ^[6-9][0-9]{9}$\n",
    "# ^[+][9][1][6-9][0-9]{9}$\n",
    "import re\n",
    "phone = input(\"Enter your mobile number: \")\n",
    "pattern = \"^[6-9][0-9]{9}$|^[+][9][1][6-9][0-9]{9}$\"\n",
    "if re.match(pattern,phone):\n",
    "    print('valid number')\n",
    "else:\n",
    "    print('Invalid')"
   ]
  },
  {
   "cell_type": "code",
   "execution_count": null,
   "metadata": {},
   "outputs": [],
   "source": [
    "# username \n",
    "    # starts with small letters,Accepts  digits,.\n",
    "    # 20 characters\n",
    "    # @\n",
    "# domain\n",
    "    # gmail,yahoo,outlook,hotmail\n",
    "# .in,.com,.org,.edu"
   ]
  },
  {
   "cell_type": "markdown",
   "metadata": {},
   "source": [
    "- File handling\n",
    "    - Used to stote related Information\n",
    "- Steps\n",
    "    - Opening a file(two ways)\n",
    "        - open(filename,mode)\n",
    "        - with open(filename,mode) as data:\n",
    "    - Doing operations\n",
    "        - read,write\n",
    "    - closing a file\n",
    "        - close()\n",
    "- Mode\n",
    "    - read mode - r\n",
    "    - write mode - w\n",
    "    - append - a"
   ]
  },
  {
   "cell_type": "code",
   "execution_count": 6,
   "metadata": {},
   "outputs": [
    {
     "name": "stdout",
     "output_type": "stream",
     "text": [
      "Hii Welcome to python Online Program\n",
      "<class 'str'>\n",
      "<class '_io.TextIOWrapper'>\n"
     ]
    }
   ],
   "source": [
    "# open()\n",
    "# If we didn't mention any mode in open() it considers as read mode\n",
    "data = open('Datafiles/demo.txt')\n",
    "info = data.read()\n",
    "print(info)\n",
    "print(type(info))\n",
    "print(type(data))"
   ]
  },
  {
   "cell_type": "code",
   "execution_count": 3,
   "metadata": {},
   "outputs": [
    {
     "name": "stdout",
     "output_type": "stream",
     "text": [
      "Hii Welcome to python Online Program\n"
     ]
    }
   ],
   "source": [
    "data = open('Datafiles/demo.txt','r')\n",
    "info = data.read()\n",
    "print(info)"
   ]
  },
  {
   "cell_type": "code",
   "execution_count": 10,
   "metadata": {},
   "outputs": [
    {
     "name": "stdout",
     "output_type": "stream",
     "text": [
      "18\n"
     ]
    }
   ],
   "source": [
    "data = open('Datafiles/newfile.txt','w')\n",
    "info = data.write('New file added....')\n",
    "data.close()\n",
    "print(info)"
   ]
  },
  {
   "cell_type": "code",
   "execution_count": 11,
   "metadata": {},
   "outputs": [
    {
     "name": "stdout",
     "output_type": "stream",
     "text": [
      "Hii Welcome to python Online Program\n"
     ]
    }
   ],
   "source": [
    "with open('Datafiles/demo.txt') as d:\n",
    "    k = d.read()\n",
    "    print(k)"
   ]
  },
  {
   "cell_type": "code",
   "execution_count": 12,
   "metadata": {},
   "outputs": [
    {
     "name": "stdout",
     "output_type": "stream",
     "text": [
      "12\n"
     ]
    }
   ],
   "source": [
    "with open('Datafiles/demo.txt','w') as d:\n",
    "    k = d.write('Hii.........')\n",
    "    print(k)"
   ]
  },
  {
   "cell_type": "code",
   "execution_count": 13,
   "metadata": {},
   "outputs": [
    {
     "name": "stdout",
     "output_type": "stream",
     "text": [
      "12\n",
      "Hii.........Welcome.....\n"
     ]
    }
   ],
   "source": [
    "with open('Datafiles/demo.txt','a') as d:\n",
    "    k = d.write('Welcome.....')\n",
    "    print(k)\n",
    "with open('Datafiles/demo.txt','r') as l:\n",
    "    w = l.read()\n",
    "    print(w)"
   ]
  },
  {
   "cell_type": "markdown",
   "metadata": {},
   "source": [
    "- tell()\n",
    "    - helps to know the cursor position\n",
    "- seek()\n",
    "    - helps to move the cursor to particular position"
   ]
  },
  {
   "cell_type": "code",
   "execution_count": 14,
   "metadata": {},
   "outputs": [
    {
     "name": "stdout",
     "output_type": "stream",
     "text": [
      "24\n"
     ]
    }
   ],
   "source": [
    "with open('Datafiles/demo.txt','r') as l:\n",
    "    w = l.read()\n",
    "    print(l.tell())"
   ]
  },
  {
   "cell_type": "code",
   "execution_count": 17,
   "metadata": {},
   "outputs": [
    {
     "name": "stdout",
     "output_type": "stream",
     "text": [
      "..Welcome.....\n"
     ]
    }
   ],
   "source": [
    "with open('Datafiles/demo.txt','r') as l:\n",
    "    l.read()\n",
    "    l.seek(10)\n",
    "    print(l.read(20))"
   ]
  },
  {
   "cell_type": "code",
   "execution_count": 18,
   "metadata": {},
   "outputs": [
    {
     "name": "stdout",
     "output_type": "stream",
     "text": [
      "14\n"
     ]
    }
   ],
   "source": [
    "with open('Datafiles/demo1.txt','r') as l:\n",
    "    w = l.read()\n",
    "    print(l.tell())"
   ]
  },
  {
   "cell_type": "code",
   "execution_count": 19,
   "metadata": {},
   "outputs": [
    {
     "name": "stdout",
     "output_type": "stream",
     "text": [
      "ile added\n"
     ]
    }
   ],
   "source": [
    "with open('Datafiles/demo1.txt','r') as l:\n",
    "    l.read()\n",
    "    l.seek(5)\n",
    "    print(l.read(10))"
   ]
  },
  {
   "cell_type": "code",
   "execution_count": 22,
   "metadata": {},
   "outputs": [
    {
     "name": "stdout",
     "output_type": "stream",
     "text": [
      "New file added\n",
      "\n",
      "Python\n",
      "\n",
      "Online\n",
      "\n"
     ]
    }
   ],
   "source": [
    "with open('Datafiles/demo1.txt','r') as l:\n",
    "    print(l.readline())\n",
    "    print(l.readline())\n",
    "    print(l.readline())"
   ]
  },
  {
   "cell_type": "code",
   "execution_count": 24,
   "metadata": {},
   "outputs": [
    {
     "name": "stdout",
     "output_type": "stream",
     "text": [
      "['New file added\\n', 'Python\\n', 'Online\\n', 'Program\\n']\n"
     ]
    }
   ],
   "source": [
    "with open('Datafiles/demo1.txt','r') as l:\n",
    "    print(l.readlines())"
   ]
  },
  {
   "cell_type": "code",
   "execution_count": 25,
   "metadata": {},
   "outputs": [
    {
     "name": "stdout",
     "output_type": "stream",
     "text": [
      "['New', 'file', 'added', 'Python', 'Online', 'Program']\n"
     ]
    }
   ],
   "source": [
    "with open('Datafiles/demo1.txt','r') as l:\n",
    "    fh = l.read()\n",
    "    words = fh.split()\n",
    "    print(words)"
   ]
  },
  {
   "cell_type": "code",
   "execution_count": 33,
   "metadata": {},
   "outputs": [
    {
     "name": "stdout",
     "output_type": "stream",
     "text": [
      "4\n"
     ]
    }
   ],
   "source": [
    "with open('Datafiles/demo1.txt','r') as l:\n",
    "    fh = l.readlines()\n",
    "    #print(type(fh))\n",
    "    print(len(fh))"
   ]
  },
  {
   "cell_type": "markdown",
   "metadata": {},
   "source": [
    "- File data Processing\n",
    "    - Generate student marks dynamically\n",
    "    - class avg\n",
    "    - pass,fail,distinction\n",
    "    - highest marks freq\n",
    "    - lowest marks freq"
   ]
  },
  {
   "cell_type": "code",
   "execution_count": 35,
   "metadata": {},
   "outputs": [
    {
     "name": "stdout",
     "output_type": "stream",
     "text": [
      "Enter number of students: 50\n",
      "Enter lowest marks range: 1\n",
      "Enter upper marks range: 100\n"
     ]
    }
   ],
   "source": [
    "# generate student marks\n",
    "from random import randint\n",
    "def marksgen(n,lb,ub):\n",
    "    with open('Datafiles/marks.txt','w') as f:\n",
    "        for i in range(0,n):\n",
    "            r = randint(lb,ub)\n",
    "            f.write(str(r) + '\\n')\n",
    "    return\n",
    "n = int(input(\"Enter number of students: \"))\n",
    "lb = int(input(\"Enter lowest marks range: \"))\n",
    "ub = int(input(\"Enter upper marks range: \"))\n",
    "marksgen(n,lb,ub)"
   ]
  },
  {
   "cell_type": "code",
   "execution_count": 36,
   "metadata": {},
   "outputs": [
    {
     "data": {
      "text/plain": [
       "51.14"
      ]
     },
     "execution_count": 36,
     "metadata": {},
     "output_type": "execute_result"
    }
   ],
   "source": [
    "# class Average\n",
    "def classAvg(filepath):\n",
    "    with open(filepath) as f:\n",
    "        fdata = f.read()\n",
    "        marks = fdata.split()\n",
    "        sum = 0\n",
    "        for mark in marks:\n",
    "            sum += int(mark)\n",
    "    return sum / len(marks)\n",
    "filepath = 'Datafiles/marks.txt'\n",
    "classAvg(filepath)"
   ]
  },
  {
   "cell_type": "markdown",
   "metadata": {},
   "source": [
    "- Task(regular Exp)\n",
    "    - Email validation\n",
    "- Tasks(File handling)\n",
    "    - Character Count\n",
    "    - Words count\n",
    "    - Unique words count\n",
    "    - frequency of words\n",
    "- Tasks(File Data Processing)\n",
    "    - pass,fail and distinction percentage"
   ]
  }
 ],
 "metadata": {
  "kernelspec": {
   "display_name": "Python 3",
   "language": "python",
   "name": "python3"
  },
  "language_info": {
   "codemirror_mode": {
    "name": "ipython",
    "version": 3
   },
   "file_extension": ".py",
   "mimetype": "text/x-python",
   "name": "python",
   "nbconvert_exporter": "python",
   "pygments_lexer": "ipython3",
   "version": "3.7.1"
  }
 },
 "nbformat": 4,
 "nbformat_minor": 2
}
